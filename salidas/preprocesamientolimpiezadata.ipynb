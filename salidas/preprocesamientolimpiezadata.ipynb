{
 "cells": [
  {
   "cell_type": "code",
   "execution_count": 1,
   "id": "62cb6929",
   "metadata": {},
   "outputs": [],
   "source": [
    "# === 0) Librerías ===\n",
    "import pandas as pd\n",
    "from pathlib import Path"
   ]
  },
  {
   "cell_type": "code",
   "execution_count": 6,
   "id": "d8e7e330",
   "metadata": {},
   "outputs": [
    {
     "name": "stdout",
     "output_type": "stream",
     "text": [
      "Archivo que voy a leer: /home/luisrueda/PROYECTO-IA/data/IoT_AquaSensors_Crudo.csv\n",
      "OK, cargado: (74796, 10)\n"
     ]
    }
   ],
   "source": [
    "# Ruta ABSOLUTA a la carpeta base del proyecto en WSL\n",
    "BASE = Path(\"/home/luisrueda/PROYECTO-IA\")\n",
    "# Construimos la ruta al CSV uniendo carpetas/archivo de forma segura\n",
    "RUTA = BASE / \"data\" / \"IoT_AquaSensors_Crudo.csv\"\n",
    "# Mostramos la ruta completa del archivo que intentaremos leer\n",
    "print(\"Archivo que voy a leer:\", RUTA)\n",
    "# Leemos el CSV como texto (dtype=str) para tener control total de tipos; \n",
    "# low_memory=False evita inferencias parciales de tipos en archivos grandes\n",
    "df = pd.read_csv(RUTA, dtype=str, low_memory=False)\n",
    "# Confirmamos dimensiones del DataFrame (filas, columnas)\n",
    "print(\"OK, cargado:\", df.shape)"
   ]
  },
  {
   "cell_type": "code",
   "execution_count": null,
   "id": "9b2e44c4",
   "metadata": {},
   "outputs": [
    {
     "name": "stdout",
     "output_type": "stream",
     "text": [
      "Filas eliminadas por fecha/hora inválida: 51\n"
     ]
    }
   ],
   "source": [
    "# === Paso 2: Crear marca de tiempo (Date + Time) ===\n",
    "# Unir las columnas de fecha y hora en una sola\n",
    "#elimina las filas invalidas\n",
    "df[\"marca_tiempo\"] = pd.to_datetime(\n",
    "    df[\"Date\"].astype(str).str.strip() + \" \" + df[\"Time\"].astype(str).str.strip(),\n",
    "    dayfirst=True,  # formato día-mes-año\n",
    "    errors=\"coerce\" # si no puede convertir, deja NaT\n",
    ")\n",
    "# Contar cuántas filas no se pudieron convertir\n",
    "filas_invalidas = df[\"marca_tiempo\"].isna().sum()\n",
    "print(\"Filas eliminadas por fecha/hora inválida:\", filas_invalidas)\n",
    "# Eliminar las filas inválidas\n",
    "df = df.dropna(subset=[\"marca_tiempo\"])"
   ]
  },
  {
   "cell_type": "code",
   "execution_count": null,
   "id": "8586b1af",
   "metadata": {},
   "outputs": [
    {
     "name": "stdout",
     "output_type": "stream",
     "text": [
      "Conteo por estación:\n",
      " estacion\n",
      "estacion3    25482\n",
      "estacion2    25481\n",
      "estacion1    23782\n",
      "Name: count, dtype: int64\n",
      "Nulos en 'estacion': 0\n"
     ]
    }
   ],
   "source": [
    "# === Paso 3: Normalizar estación (a 'estacion') ===\n",
    "#Esto deja la columna estacion lista y consistente (sin espacios, minúsculas, nombres unificados).\n",
    "# 1) Crear columna 'estacion' en español, limpia y en minúsculas\n",
    "df[\"estacion\"] = (df[\"station\"].astype(str)\n",
    "                  .str.strip()           # quitar espacios extremos\n",
    "                  .str.lower()           # a minúsculas\n",
    "                  .str.replace(r\"\\s+\", \"\", regex=True))  # quitar espacios internos\n",
    "\n",
    "# 2) Unificar variantes a un nombre canónico en español\n",
    "mapa_estaciones = {\n",
    "    \"station1\": \"estacion1\",\n",
    "    \"station2\": \"estacion2\",\n",
    "    \"station3\": \"estacion3\"\n",
    "}\n",
    "df[\"estacion\"] = df[\"estacion\"].replace(mapa_estaciones)\n",
    "# 3) eliminar la columna original en inglés\n",
    "df = df.drop(columns=[\"station\"])\n",
    "\n",
    "# 4) Chequeos rápidos\n",
    "print(\"Conteo por estación:\\n\", df[\"estacion\"].value_counts())\n",
    "print(\"Nulos en 'estacion':\", df[\"estacion\"].isna().sum())\n"
   ]
  },
  {
   "cell_type": "code",
   "execution_count": null,
   "id": "91099b18",
   "metadata": {},
   "outputs": [],
   "source": []
  },
  {
   "cell_type": "code",
   "execution_count": 17,
   "id": "8dfb2fdb",
   "metadata": {},
   "outputs": [
    {
     "name": "stdout",
     "output_type": "stream",
     "text": [
      "NaN por columna numérica:\n",
      "manganeso_mg_l           25\n",
      "oxigeno_disuelto_mg_l    10\n",
      "nitrato_ppm               6\n",
      "temperatura_c             6\n",
      "ph                        2\n",
      "amoniaco_mg_l             0\n",
      "turbidez_ntu              0\n",
      "dtype: int64\n",
      "\n",
      "Vista rápida tras conversión:\n",
      "         marca_tiempo   estacion  nitrato_ppm   ph  amoniaco_mg_l  \\\n",
      "0 2022-02-01 08:00:00  estacion1         18.3  5.7          0.010   \n",
      "1 2022-02-01 08:20:00  estacion1          3.6  5.1          0.094   \n",
      "2 2022-02-01 08:40:00  estacion1         13.1  5.5          0.060   \n",
      "3 2022-02-01 09:00:00  estacion1         18.1  5.2          0.018   \n",
      "4 2022-02-01 09:20:00  estacion1         10.8  5.2          0.038   \n",
      "\n",
      "   temperatura_c  oxigeno_disuelto_mg_l  turbidez_ntu  manganeso_mg_l  \n",
      "0          23.20                   11.6          31.7            0.71  \n",
      "1          23.41                   10.5          18.8            0.62  \n",
      "2          23.63                   10.3          23.2            0.73  \n",
      "3          23.64                    9.4          26.7            0.64  \n",
      "4          23.81                    8.8          19.5            0.68  \n"
     ]
    }
   ],
   "source": [
    "# === Paso 4: Convertir columnas de sensores a numérico ===\n",
    "\n",
    "# 1) Definir nombres en español (mapea desde tus columnas originales)\n",
    "mapa_columnas = {\n",
    "    \"NITRATE(PPM)\": \"nitrato_ppm\",\n",
    "    \"PH\": \"ph\",\n",
    "    \"AMMONIA(mg/l)\": \"amoniaco_mg_l\",\n",
    "    \"TEMP\": \"temperatura_c\",\n",
    "    \"DO\": \"oxigeno_disuelto_mg_l\",\n",
    "    \"TURBIDITY\": \"turbidez_ntu\",\n",
    "    \"MANGANESE(mg/l)\": \"manganeso_mg_l\"\n",
    "}\n",
    "# 2) Renombrar columnas\n",
    "df = df.rename(columns=mapa_columnas)\n",
    "# 3) Forzar a numérico (reemplaza coma por punto y limpia espacios)\n",
    "columnas_numericas = list(mapa_columnas.values())\n",
    "for col in columnas_numericas:\n",
    "    df[col] = (\n",
    "        df[col]\n",
    "        .astype(str)\n",
    "        .str.replace(\",\", \".\", regex=False)\n",
    "        .str.strip()\n",
    "    )\n",
    "    df[col] = pd.to_numeric(df[col], errors=\"coerce\")\n",
    "    # 4) Chequeo rápido de NaN por columna numérica\n",
    "print(\"NaN por columna numérica:\")\n",
    "print(df[columnas_numericas].isna().sum().sort_values(ascending=False))\n",
    "# 5) Vista rápida\n",
    "print(\"\\nVista rápida tras conversión:\")\n",
    "print(df[[\"marca_tiempo\",\"estacion\"] + columnas_numericas].head(5))\n"
   ]
  },
  {
   "cell_type": "code",
   "execution_count": 21,
   "id": "cedf7719",
   "metadata": {},
   "outputs": [
    {
     "name": "stdout",
     "output_type": "stream",
     "text": [
      "Duplicados eliminados: 0\n",
      "Tamaño final del dataset: (74745, 11)\n"
     ]
    }
   ],
   "source": [
    "# === Paso 5: Eliminar duplicados ===\n",
    "\n",
    "# Guardamos número de filas antes\n",
    "filas_antes = len(df)\n",
    "\n",
    "# Ordenamos y quitamos duplicados\n",
    "df = (\n",
    "    df.sort_values([\"estacion\", \"marca_tiempo\"])\n",
    "      .drop_duplicates(subset=[\"estacion\", \"marca_tiempo\"], keep=\"first\")\n",
    ")\n",
    "# Contamos cuántos se eliminaron\n",
    "filas_despues = len(df)\n",
    "duplicados_eliminados = filas_antes - filas_despues\n",
    "print(\"Duplicados eliminados:\", duplicados_eliminados)\n",
    "print(\"Tamaño final del dataset:\", df.shape)"
   ]
  },
  {
   "cell_type": "code",
   "execution_count": null,
   "id": "84ba938e",
   "metadata": {},
   "outputs": [
    {
     "name": "stdout",
     "output_type": "stream",
     "text": [
      "Valores faltantes (NaN) por columna:\n",
      "nitrato_ppm               6\n",
      "ph                        2\n",
      "amoniaco_mg_l             0\n",
      "temperatura_c             6\n",
      "oxigeno_disuelto_mg_l    10\n",
      "turbidez_ntu              0\n",
      "manganeso_mg_l           25\n",
      "dtype: int64\n",
      "\n",
      "Valores faltantes tras imputación:\n",
      "nitrato_ppm              0\n",
      "ph                       0\n",
      "amoniaco_mg_l            0\n",
      "temperatura_c            0\n",
      "oxigeno_disuelto_mg_l    0\n",
      "turbidez_ntu             0\n",
      "manganeso_mg_l           0\n",
      "dtype: int64\n"
     ]
    }
   ],
   "source": [
    "# === Paso 6: Manejo de valores faltantes (NaN) ===\n",
    "#Reemplazar los huecos con la mediana por estación (más realista que usar una sola media global).\n",
    "# 1) Lista de columnas de sensores\n",
    "sensores = [\n",
    "    \"nitrato_ppm\", \"ph\", \"amoniaco_mg_l\",\n",
    "    \"temperatura_c\", \"oxigeno_disuelto_mg_l\",\n",
    "    \"turbidez_ntu\", \"manganeso_mg_l\"\n",
    "]\n",
    "# 2) Revisar cuántos NaN hay por sensor\n",
    "print(\"Valores faltantes (NaN) por columna:\")\n",
    "print(df[sensores].isna().sum())\n",
    "# 3) Imputar valores faltantes con la MEDIANA de cada estación\n",
    "#    Esto asegura que cada estación use sus propios valores típicos\n",
    "for col in sensores:\n",
    "    df[col] = df.groupby(\"estacion\")[col].transform(\n",
    "        lambda serie: serie.fillna(serie.median())\n",
    "    )\n",
    "# 4) Verificar nuevamente si quedaron NaN\n",
    "print(\"\\nValores faltantes tras imputación:\")\n",
    "print(df[sensores].isna().sum())"
   ]
  }
 ],
 "metadata": {
  "kernelspec": {
   "display_name": ".venv",
   "language": "python",
   "name": "python3"
  },
  "language_info": {
   "codemirror_mode": {
    "name": "ipython",
    "version": 3
   },
   "file_extension": ".py",
   "mimetype": "text/x-python",
   "name": "python",
   "nbconvert_exporter": "python",
   "pygments_lexer": "ipython3",
   "version": "3.12.3"
  }
 },
 "nbformat": 4,
 "nbformat_minor": 5
}
