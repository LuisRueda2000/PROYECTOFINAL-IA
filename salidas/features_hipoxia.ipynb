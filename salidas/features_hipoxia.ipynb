{
 "cells": [
  {
   "cell_type": "code",
   "execution_count": 8,
   "id": "cccb6952",
   "metadata": {},
   "outputs": [],
   "source": [
    "# === EXTRACCIÓN DE CARACTERÍSTICAS: HIPOXIA (desde df limpio) ===\n",
    "import numpy as np\n",
    "import pandas as pd"
   ]
  },
  {
   "cell_type": "code",
   "execution_count": 9,
   "id": "2e476a05",
   "metadata": {},
   "outputs": [
    {
     "ename": "NameError",
     "evalue": "name 'df' is not defined",
     "output_type": "error",
     "traceback": [
      "\u001b[31m---------------------------------------------------------------------------\u001b[39m",
      "\u001b[31mNameError\u001b[39m                                 Traceback (most recent call last)",
      "\u001b[36mCell\u001b[39m\u001b[36m \u001b[39m\u001b[32mIn[9]\u001b[39m\u001b[32m, line 8\u001b[39m\n\u001b[32m      5\u001b[39m DROP_MG_L = \u001b[32m1.0\u001b[39m          \u001b[38;5;66;03m# caída brusca >1 mg/L\u001b[39;00m\n\u001b[32m      7\u001b[39m \u001b[38;5;66;03m# Asegurar tipos/columnas mínimas\u001b[39;00m\n\u001b[32m----> \u001b[39m\u001b[32m8\u001b[39m df = \u001b[43mdf\u001b[49m.copy()\n\u001b[32m      9\u001b[39m df[\u001b[33m\"\u001b[39m\u001b[33mmarca_tiempo\u001b[39m\u001b[33m\"\u001b[39m] = pd.to_datetime(df[\u001b[33m\"\u001b[39m\u001b[33mmarca_tiempo\u001b[39m\u001b[33m\"\u001b[39m], errors=\u001b[33m\"\u001b[39m\u001b[33mcoerce\u001b[39m\u001b[33m\"\u001b[39m)\n\u001b[32m     10\u001b[39m min_cols = [\u001b[33m\"\u001b[39m\u001b[33mestacion\u001b[39m\u001b[33m\"\u001b[39m, \u001b[33m\"\u001b[39m\u001b[33mmarca_tiempo\u001b[39m\u001b[33m\"\u001b[39m, \u001b[33m\"\u001b[39m\u001b[33moxigeno_disuelto_mg_l\u001b[39m\u001b[33m\"\u001b[39m]\n",
      "\u001b[31mNameError\u001b[39m: name 'df' is not defined"
     ]
    }
   ],
   "source": [
    "# Parámetros del criterio de hipoxia\n",
    "THRESH_DO = 4.0          # mg/L (umbral de hipoxia)\n",
    "WINDOW    = \"15min\"      # ventana temporal\n",
    "SUST_PCT  = 0.80         # ≥80% del tiempo bajo 4 mg/L\n",
    "DROP_MG_L = 1.0          # caída brusca >1 mg/L\n",
    "\n",
    "# Asegurar tipos/columnas mínimas\n",
    "df = df.copy()\n",
    "df[\"marca_tiempo\"] = pd.to_datetime(df[\"marca_tiempo\"], errors=\"coerce\")\n",
    "min_cols = [\"estacion\", \"marca_tiempo\", \"oxigeno_disuelto_mg_l\"]\n",
    "df = df.dropna(subset=min_cols)"
   ]
  }
 ],
 "metadata": {
  "kernelspec": {
   "display_name": ".venv",
   "language": "python",
   "name": "python3"
  },
  "language_info": {
   "codemirror_mode": {
    "name": "ipython",
    "version": 3
   },
   "file_extension": ".py",
   "mimetype": "text/x-python",
   "name": "python",
   "nbconvert_exporter": "python",
   "pygments_lexer": "ipython3",
   "version": "3.12.3"
  }
 },
 "nbformat": 4,
 "nbformat_minor": 5
}
