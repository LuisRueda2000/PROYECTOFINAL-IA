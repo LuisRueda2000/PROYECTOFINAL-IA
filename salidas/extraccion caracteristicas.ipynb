{
 "cells": [
  {
   "cell_type": "code",
   "execution_count": 96,
   "id": "a8f650ac",
   "metadata": {},
   "outputs": [],
   "source": [
    "# ==========================================================\n",
    "# EXTRACCIÓN DE CARACTERÍSTICAS PARA PREDICCIÓN DE HIPOXIA\n",
    "# ¿Qué se hace en extracción de características?\n",
    "#Variables originales:\n",
    "#oxigeno_disuelto_mg_l, temperatura_c, ph, amoniaco_mg_l, nitrato_ppm, turbidez_ntu, manganeso_mg_l.\n",
    "##################Nuevas variables derivadas (ejemplos):\n",
    "#Promedio, mínimo, máximo y desviación en 1 hora.\n",
    "#Pendiente (tasa de cambio).\n",
    "#Diferencia simple con el dato anterior.\n",
    "#Suavizado (EWMA) y residuo (cuánto se desvía DO de su tendencia).\n",
    "#Interacciones fisicoquímicas: temp × DO, ph × amoníaco.\n",
    "#Hora del día en seno/coseno (hipoxia ocurre más de madrugada)."
   ]
  },
  {
   "cell_type": "code",
   "execution_count": 32,
   "id": "3ffe2158",
   "metadata": {},
   "outputs": [],
   "source": [
    "# === 0) Librerías ===\n",
    "import pandas as pd\n",
    "import numpy as np\n",
    "import pandas as pd\n"
   ]
  },
  {
   "cell_type": "code",
   "execution_count": 33,
   "id": "a0b36c19",
   "metadata": {},
   "outputs": [],
   "source": [
    "# === 1) Cargar dataset limpio SIN etiquetas ===\n",
    "RUTA = \"IoT_AquaSensors_Limpio_SinEtiquetas.csv\"\n",
    "df = pd.read_csv(RUTA, parse_dates=[\"marca_tiempo\"])\n",
    "df = df.sort_values([\"estacion\", \"marca_tiempo\"]).reset_index(drop=True)\n"
   ]
  },
  {
   "cell_type": "code",
   "execution_count": 34,
   "id": "a3529c62",
   "metadata": {},
   "outputs": [],
   "source": [
    "# === 2) Crear etiqueta 'hipoxia' (y) desde oxígeno disuelto ===\n",
    "UMBRAL_HIPOXIA = 3.0  # mg/L (ajústalo si tu docente indica otro)\n",
    "df[\"hipoxia\"] = (df[\"oxigeno_disuelto_mg_l\"] < UMBRAL_HIPOXIA).astype(int)\n",
    "\n"
   ]
  },
  {
   "cell_type": "code",
   "execution_count": 36,
   "id": "8401be4c",
   "metadata": {},
   "outputs": [],
   "source": [
    "# === 3) Definir sensores predictores (sin oxígeno directo) ===\n",
    "sensores = [\"temperatura_c\", \"ph\", \"amoniaco_mg_l\",\n",
    "            \"nitrato_ppm\", \"turbidez_ntu\", \"manganeso_mg_l\"]"
   ]
  },
  {
   "cell_type": "code",
   "execution_count": 37,
   "id": "68802afc",
   "metadata": {},
   "outputs": [],
   "source": [
    "# === 4) Función: extraer características por estación (usa SOLO pasado) ===\n",
    "def extraer_caracteristicas_por_estacion(tab: pd.DataFrame) -> pd.DataFrame:\n",
    "    # Orden temporal y usar tiempo como índice\n",
    "    tab = tab.sort_values(\"marca_tiempo\").set_index(\"marca_tiempo\")\n",
    "    ventana = \"60min\"  # 1 hora\n",
    "    feats = {}"
   ]
  },
  {
   "cell_type": "code",
   "execution_count": null,
   "id": "0294fa5d",
   "metadata": {},
   "outputs": [],
   "source": [
    "# === PASO 4.1: Estadísticos por ventana (solo pasado) ===\n",
    "import pandas as pd\n",
    "\n",
    "sensores = [\"temperatura_c\",\"ph\",\"amoniaco_mg_l\",\"nitrato_ppm\",\"turbidez_ntu\",\"manganeso_mg_l\"]\n",
    "\n",
    "def paso_41_estadisticos(tab: pd.DataFrame) -> pd.DataFrame:\n",
    "    tab = tab.sort_values(\"marca_tiempo\").set_index(\"marca_tiempo\")\n",
    "\n",
    "    ventana = \"60min\"                     # ventana de 1 hora\n",
    "    out = pd.DataFrame(index=tab.index)   # aquí guardamos las features\n",
    "\n",
    "    # Estadísticos por ventana usando SOLO pasado (excluye instante actual)\n",
    "    for col in sensores:\n",
    "        r = tab[col].rolling(ventana, closed=\"left\", min_periods=2)\n",
    "        out[f\"{col}_media_1h\"] = r.mean()\n",
    "        out[f\"{col}_min_1h\"]   = r.min()\n",
    "        out[f\"{col}_max_1h\"]   = r.max()\n",
    "        out[f\"{col}_std_1h\"]   = r.std()\n",
    "\n",
    "    # Agregar claves y (si existe) etiqueta\n",
    "    out = out.reset_index()\n",
    "    out[\"estacion\"] = tab[\"estacion\"].values\n",
    "    if \"hipoxia\" in tab.columns:\n",
    "        out[\"hipoxia\"] = tab[\"hipoxia\"].values\n",
    "    return out\n",
    "\n",
    "# Aplicar por estación y unir\n",
    "caracteristicas_41 = (\n",
    "    df[[\"estacion\",\"marca_tiempo\"] + sensores + ([\"hipoxia\"] if \"hipoxia\" in df.columns else [])]\n",
    "      .groupby(\"estacion\", group_keys=False)\n",
    "      .apply(paso_41_estadisticos)\n",
    "      .reset_index(drop=True)\n",
    ")\n",
    "\n",
    "# Quitar filas sin suficiente historial (NaN por ventana)\n",
    "cols_feat_41 = [c for c in caracteristicas_41.columns if c not in [\"estacion\",\"marca_tiempo\",\"hipoxia\"]]\n",
    "caracteristicas_41 = caracteristicas_41.dropna(subset=cols_feat_41).reset_index(drop=True)\n",
    "\n",
    "print(\"OK 4.1 ->\", caracteristicas_41.shape)\n",
    "print(caracteristicas_41.head(3))"
   ]
  },
  {
   "cell_type": "code",
   "execution_count": 39,
   "id": "aee7fadc",
   "metadata": {},
   "outputs": [
    {
     "name": "stderr",
     "output_type": "stream",
     "text": [
      "/tmp/ipykernel_793/2477385284.py:36: FutureWarning: DataFrameGroupBy.apply operated on the grouping columns. This behavior is deprecated, and in a future version of pandas the grouping columns will be excluded from the operation. Either pass `include_groups=False` to exclude the groupings or explicitly select the grouping columns after groupby to silence this warning.\n",
      "  .apply(paso_42_tendencias)\n"
     ]
    },
    {
     "name": "stdout",
     "output_type": "stream",
     "text": [
      "Guardado: caracteristicas.csv\n",
      "Shape: (74727, 32)\n",
      "Distribución hipoxia:\n",
      " hipoxia\n",
      "0    72503\n",
      "1     2224\n",
      "Name: count, dtype: int64\n",
      "Columnas (muestra): ['marca_tiempo', 'temperatura_c_media_1h', 'temperatura_c_min_1h', 'temperatura_c_max_1h', 'temperatura_c_std_1h', 'ph_media_1h', 'ph_min_1h', 'ph_max_1h', 'ph_std_1h', 'amoniaco_mg_l_media_1h', 'amoniaco_mg_l_min_1h', 'amoniaco_mg_l_max_1h']\n"
     ]
    }
   ],
   "source": [
    "# === PASO 4.2: Tendencias previas de oxígeno + unir con 4.1 y guardar ===\n",
    "import numpy as np\n",
    "import pandas as pd\n",
    "\n",
    "# Si aún no creaste la etiqueta, créala (no afecta si ya existe)\n",
    "if \"hipoxia\" not in df.columns:\n",
    "    df[\"hipoxia\"] = (df[\"oxigeno_disuelto_mg_l\"] < 3.0).astype(int)\n",
    "\n",
    "# ---- Función de tendencias previas por estación ----\n",
    "def paso_42_tendencias(tab: pd.DataFrame) -> pd.DataFrame:\n",
    "    tab = tab.sort_values(\"marca_tiempo\").set_index(\"marca_tiempo\")\n",
    "\n",
    "    ox   = tab[\"oxigeno_disuelto_mg_l\"]\n",
    "    dif  = ox.diff()\n",
    "    dt_h = tab.index.to_series().diff().dt.total_seconds() / 3600.0\n",
    "\n",
    "    out = pd.DataFrame(index=tab.index)\n",
    "    out[\"oxigeno_dif_1_prev\"]       = dif.shift(1)                 # cambio previo\n",
    "    out[\"oxigeno_pendiente_h_prev\"] = (dif / dt_h).shift(1)        # pendiente previa\n",
    "    out[\"oxigeno_ewma_1h_prev\"]     = ox.ewm(span=3, adjust=False).mean().shift(1)  # suavizado previo\n",
    "\n",
    "    # Señales de hora del día (ciclo)\n",
    "    hora = tab.index.hour + tab.index.minute/60.0\n",
    "    out[\"hora_sin\"] = np.sin(2*np.pi*hora/24)\n",
    "    out[\"hora_cos\"] = np.cos(2*np.pi*hora/24)\n",
    "\n",
    "    out = out.reset_index()\n",
    "    out[\"estacion\"] = tab[\"estacion\"].values\n",
    "    out[\"hipoxia\"]  = tab[\"hipoxia\"].values\n",
    "    return out\n",
    "\n",
    "# ---- Aplicar 4.2 por estación ----\n",
    "caracteristicas_42 = (\n",
    "    df[[\"estacion\",\"marca_tiempo\",\"oxigeno_disuelto_mg_l\",\"hipoxia\"]]\n",
    "      .groupby(\"estacion\", group_keys=False)\n",
    "      .apply(paso_42_tendencias)\n",
    "      .reset_index(drop=True)\n",
    ")\n",
    "\n",
    "# ---- Unir con el resultado de 4.1 (caracteristicas_41) ----\n",
    "caracteristicas = caracteristicas_41.merge(\n",
    "    caracteristicas_42,\n",
    "    on=[\"estacion\",\"marca_tiempo\",\"hipoxia\"],  # si no tuvieras hipoxia en 4.1, usa solo ['estacion','marca_tiempo']\n",
    "    how=\"inner\"\n",
    ")\n",
    "\n",
    "# Si te aparecen columnas duplicadas de hipoxia (hipoxia_x/hipoxia_y):\n",
    "if \"hipoxia_x\" in caracteristicas.columns:\n",
    "    caracteristicas = (caracteristicas\n",
    "                       .rename(columns={\"hipoxia_x\":\"hipoxia\"})\n",
    "                       .drop(columns=[c for c in [\"hipoxia_y\"] if c in caracteristicas.columns]))\n",
    "\n",
    "# ---- Quitar filas sin historial suficiente (NaN) ----\n",
    "cols_feat = [c for c in caracteristicas.columns if c not in [\"estacion\",\"marca_tiempo\",\"hipoxia\"]]\n",
    "caracteristicas = caracteristicas.dropna(subset=cols_feat).reset_index(drop=True)\n",
    "\n",
    "# ---- Guardar ----\n",
    "caracteristicas.to_csv(\"caracteristicas.csv\", index=False)\n",
    "print(\"Guardado: caracteristicas.csv\")\n",
    "print(\"Shape:\", caracteristicas.shape)\n",
    "print(\"Distribución hipoxia:\\n\", caracteristicas[\"hipoxia\"].value_counts())\n",
    "print(\"Columnas (muestra):\", caracteristicas.columns[:12].tolist())\n",
    "\n",
    "#Calcula oxigeno_dif_1_prev, oxigeno_pendiente_h_prev, oxigeno_ewma_1h_prev (solo pasado).\n",
    "#Añade hora_sin y hora_cos.\n",
    "#Une con las estadísticas 1h del PASO 4.1 (caracteristicas_41).\n",
    "#Elimina filas con NaN de ventanas/diffs.\n",
    "#Guarda caracteristicas.csv listo para modelar."
   ]
  }
 ],
 "metadata": {
  "kernelspec": {
   "display_name": ".venv",
   "language": "python",
   "name": "python3"
  },
  "language_info": {
   "codemirror_mode": {
    "name": "ipython",
    "version": 3
   },
   "file_extension": ".py",
   "mimetype": "text/x-python",
   "name": "python",
   "nbconvert_exporter": "python",
   "pygments_lexer": "ipython3",
   "version": "3.12.3"
  }
 },
 "nbformat": 4,
 "nbformat_minor": 5
}
