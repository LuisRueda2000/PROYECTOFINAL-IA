{
 "cells": [
  {
   "cell_type": "code",
   "execution_count": null,
   "id": "a8f650ac",
   "metadata": {},
   "outputs": [],
   "source": [
    "# ==========================================================\n",
    "# EXTRACCIÓN DE CARACTERÍSTICAS PARA PREDICCIÓN DE HIPOXIA\n",
    "# ¿Qué se hace en extracción de características?\n",
    "#Variables originales:\n",
    "#oxigeno_disuelto_mg_l, temperatura_c, ph, amoniaco_mg_l, nitrato_ppm, turbidez_ntu, manganeso_mg_l.\n",
    "##################Nuevas variables derivadas (ejemplos):\n",
    "#Promedio, mínimo, máximo y desviación en 1 hora.\n",
    "#Pendiente (tasa de cambio).\n",
    "#Diferencia simple con el dato anterior.\n",
    "#Suavizado (EWMA) y residuo (cuánto se desvía DO de su tendencia).\n",
    "#Interacciones fisicoquímicas: temp × DO, ph × amoníaco.\n",
    "#Hora del día en seno/coseno (hipoxia ocurre más de madrugada)."
   ]
  },
  {
   "cell_type": "code",
   "execution_count": 2,
   "id": "3ffe2158",
   "metadata": {},
   "outputs": [],
   "source": [
    "import pandas as pd\n",
    "import numpy as np"
   ]
  },
  {
   "cell_type": "code",
   "execution_count": 3,
   "id": "94541a50",
   "metadata": {},
   "outputs": [
    {
     "ename": "NameError",
     "evalue": "name 'df' is not defined",
     "output_type": "error",
     "traceback": [
      "\u001b[31m---------------------------------------------------------------------------\u001b[39m",
      "\u001b[31mNameError\u001b[39m                                 Traceback (most recent call last)",
      "\u001b[36mCell\u001b[39m\u001b[36m \u001b[39m\u001b[32mIn[3]\u001b[39m\u001b[32m, line 2\u001b[39m\n\u001b[32m      1\u001b[39m \u001b[38;5;66;03m# --- Asegurar índice de tiempo ---\u001b[39;00m\n\u001b[32m----> \u001b[39m\u001b[32m2\u001b[39m df[\u001b[33m\"\u001b[39m\u001b[33mmarca_tiempo\u001b[39m\u001b[33m\"\u001b[39m] = pd.to_datetime(\u001b[43mdf\u001b[49m[\u001b[33m\"\u001b[39m\u001b[33mmarca_tiempo\u001b[39m\u001b[33m\"\u001b[39m], errors=\u001b[33m\"\u001b[39m\u001b[33mcoerce\u001b[39m\u001b[33m\"\u001b[39m)\n\u001b[32m      3\u001b[39m df = df.sort_values(\u001b[33m\"\u001b[39m\u001b[33mmarca_tiempo\u001b[39m\u001b[33m\"\u001b[39m).set_index(\u001b[33m\"\u001b[39m\u001b[33mmarca_tiempo\u001b[39m\u001b[33m\"\u001b[39m)\n",
      "\u001b[31mNameError\u001b[39m: name 'df' is not defined"
     ]
    }
   ],
   "source": [
    "# --- Asegurar índice de tiempo ---\n",
    "df[\"marca_tiempo\"] = pd.to_datetime(df[\"marca_tiempo\"], errors=\"coerce\")\n",
    "df = df.sort_values(\"marca_tiempo\").set_index(\"marca_tiempo\")"
   ]
  },
  {
   "cell_type": "code",
   "execution_count": null,
   "id": "d0ca622d",
   "metadata": {},
   "outputs": [],
   "source": [
    "# --- Variables base ---\n",
    "vars_base = [\"oxigeno_disuelto_mg_l\",\"temperatura_c\",\"ph\",\n",
    "             \"amoniaco_mg_l\",\"nitrato_ppm\",\"turbidez_ntu\",\"manganeso_mg_l\"]"
   ]
  },
  {
   "cell_type": "code",
   "execution_count": null,
   "id": "3559e2b9",
   "metadata": {},
   "outputs": [],
   "source": [
    "# --- Ventanas móviles (ej. 1 hora) ---\n",
    "for v in vars_base:\n",
    "    r = df[v].rolling(\"60min\", min_periods=3)\n",
    "    df[f\"{v}_media_1h\"] = r.mean()\n",
    "    df[f\"{v}_min_1h\"]   = r.min()\n",
    "    df[f\"{v}_max_1h\"]   = r.max()\n",
    "    df[f\"{v}_std_1h\"]   = r.std()\n"
   ]
  },
  {
   "cell_type": "code",
   "execution_count": null,
   "id": "1b9b6681",
   "metadata": {},
   "outputs": [],
   "source": [
    "# --- Dinámica temporal ---\n",
    "dt_h = df.index.to_series().diff().dt.total_seconds()/3600\n",
    "for v in vars_base:\n",
    "    df[f\"{v}_pendiente_h\"] = df[v].diff() / dt_h\n",
    "    df[f\"{v}_diferencia\"]  = df[v].diff()"
   ]
  },
  {
   "cell_type": "code",
   "execution_count": null,
   "id": "72bf438e",
   "metadata": {},
   "outputs": [],
   "source": [
    "# --- Suavizado y residuo para DO ---\n",
    "df[\"do_suavizado\"] = df[\"oxigeno_disuelto_mg_l\"].ewm(span=12, adjust=False).mean()\n",
    "df[\"do_residuo\"]   = df[\"oxigeno_disuelto_mg_l\"] - df[\"do_suavizado\"]\n"
   ]
  },
  {
   "cell_type": "code",
   "execution_count": null,
   "id": "946cff99",
   "metadata": {},
   "outputs": [],
   "source": [
    "# --- Interacciones ---\n",
    "df[\"temp_por_do\"]   = df[\"temperatura_c\"] * df[\"oxigeno_disuelto_mg_l\"]\n",
    "df[\"ph_por_amonio\"] = df[\"ph\"] * df[\"amoniaco_mg_l\"]\n"
   ]
  },
  {
   "cell_type": "code",
   "execution_count": null,
   "id": "fa57aeaa",
   "metadata": {},
   "outputs": [],
   "source": [
    "# --- Hora del día ---\n",
    "df[\"hora\"] = df.index.hour\n",
    "df[\"hora_sin\"] = np.sin(2*np.pi*df[\"hora\"]/24)\n",
    "df[\"hora_cos\"] = np.cos(2*np.pi*df[\"hora\"]/24)\n"
   ]
  },
  {
   "cell_type": "code",
   "execution_count": 1,
   "id": "38c1899c",
   "metadata": {},
   "outputs": [
    {
     "ename": "NameError",
     "evalue": "name 'df' is not defined",
     "output_type": "error",
     "traceback": [
      "\u001b[31m---------------------------------------------------------------------------\u001b[39m",
      "\u001b[31mNameError\u001b[39m                                 Traceback (most recent call last)",
      "\u001b[36mCell\u001b[39m\u001b[36m \u001b[39m\u001b[32mIn[1]\u001b[39m\u001b[32m, line 2\u001b[39m\n\u001b[32m      1\u001b[39m \u001b[38;5;66;03m# --- Limpiar NaN ---\u001b[39;00m\n\u001b[32m----> \u001b[39m\u001b[32m2\u001b[39m df = \u001b[43mdf\u001b[49m.fillna(method=\u001b[33m\"\u001b[39m\u001b[33mbfill\u001b[39m\u001b[33m\"\u001b[39m).fillna(method=\u001b[33m\"\u001b[39m\u001b[33mffill\u001b[39m\u001b[33m\"\u001b[39m)\n\u001b[32m      4\u001b[39m \u001b[38;5;28mprint\u001b[39m(\u001b[33m\"\u001b[39m\u001b[33mExtracción lista. Shape final:\u001b[39m\u001b[33m\"\u001b[39m, df.shape)\n\u001b[32m      5\u001b[39m \u001b[38;5;28mprint\u001b[39m(\u001b[33m\"\u001b[39m\u001b[33mEjemplo de columnas:\u001b[39m\u001b[33m\"\u001b[39m, \u001b[38;5;28mlist\u001b[39m(df.columns)[:\u001b[32m12\u001b[39m])\n",
      "\u001b[31mNameError\u001b[39m: name 'df' is not defined"
     ]
    }
   ],
   "source": [
    "# --- Limpiar NaN ---\n",
    "df = df.fillna(method=\"bfill\").fillna(method=\"ffill\")\n",
    "\n",
    "print(\"Extracción lista. Shape final:\", df.shape)\n",
    "print(\"Ejemplo de columnas:\", list(df.columns)[:12])"
   ]
  }
 ],
 "metadata": {
  "kernelspec": {
   "display_name": ".venv",
   "language": "python",
   "name": "python3"
  },
  "language_info": {
   "codemirror_mode": {
    "name": "ipython",
    "version": 3
   },
   "file_extension": ".py",
   "mimetype": "text/x-python",
   "name": "python",
   "nbconvert_exporter": "python",
   "pygments_lexer": "ipython3",
   "version": "3.12.3"
  }
 },
 "nbformat": 4,
 "nbformat_minor": 5
}
